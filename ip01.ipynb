{
 "cells": [
  {
   "cell_type": "code",
   "execution_count": 6,
   "metadata": {},
   "outputs": [
    {
     "name": "stdout",
     "output_type": "stream",
     "text": [
      "['male']\n"
     ]
    }
   ],
   "source": [
    "from sklearn import tree\n",
    "\n",
    "X = [[81,80,44], [177,70,43], [160,60,38],[154,54,37], [166,65,40], [190,90,47], [175,64,39],[177,70,40],[159,55,37],[171,75,42],[181,85,43], [91,77,43]]\n",
    "Y = ['male', 'female', 'female', 'female','male', 'male', 'male','male', 'female','male',  'female', 'male']\n",
    "clf = tree.DecisionTreeClassifier()\n",
    "clf = clf.fit(X, Y) \n",
    "prediction = clf.predict([[66,70,43]])\n",
    "\n",
    "print (prediction)"
   ]
  },
  {
   "cell_type": "code",
   "execution_count": 10,
   "metadata": {},
   "outputs": [
    {
     "name": "stdout",
     "output_type": "stream",
     "text": [
      "['female']\n"
     ]
    }
   ],
   "source": [
    "from sklearn import tree\n",
    "\n",
    "X = [[81,80,44], [177,70,43], [160,60,38],[154,54,37], [166,65,40], [190,90,47], [175,64,39],[177,70,40],[159,55,37],[171,75,42],[181,85,43], [91,77,43]]\n",
    "Y = ['male', 'female', 'female', 'female','male', 'male', 'male','male', 'female','male',  'female', 'male']\n",
    "clf = tree.DecisionTreeClassifier()\n",
    "clf = clf.fit(X, Y) \n",
    "prediction = clf.predict([[200,70,43]])\n",
    "\n",
    "print (prediction)"
   ]
  },
  {
   "cell_type": "code",
   "execution_count": null,
   "metadata": {},
   "outputs": [],
   "source": []
  }
 ],
 "metadata": {
  "kernelspec": {
   "display_name": "Python 3",
   "language": "python",
   "name": "python3"
  },
  "language_info": {
   "codemirror_mode": {
    "name": "ipython",
    "version": 3
   },
   "file_extension": ".py",
   "mimetype": "text/x-python",
   "name": "python",
   "nbconvert_exporter": "python",
   "pygments_lexer": "ipython3",
   "version": "3.6.9"
  }
 },
 "nbformat": 4,
 "nbformat_minor": 2
}
